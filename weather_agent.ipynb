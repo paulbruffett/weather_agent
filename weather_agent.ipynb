{
 "cells": [
  {
   "cell_type": "markdown",
   "metadata": {},
   "source": [
    "## Using Llama 3.1 on AWS to build an Agent"
   ]
  },
  {
   "cell_type": "code",
   "execution_count": 1,
   "metadata": {},
   "outputs": [],
   "source": [
    "#install required libraries if needed\n",
    "#!pip3 install openmeteo-requests retry-requests geopy"
   ]
  },
  {
   "cell_type": "code",
   "execution_count": 2,
   "metadata": {},
   "outputs": [],
   "source": [
    "#load our secrets for AWS\n",
    "import json\n",
    "with open('config.json') as f:\n",
    "    secrets = json.load(f)"
   ]
  },
  {
   "cell_type": "code",
   "execution_count": 3,
   "metadata": {},
   "outputs": [],
   "source": [
    "#initialize our model and imports\n",
    "import boto3\n",
    "from botocore.exceptions import ClientError\n",
    "import openmeteo_requests\n",
    "import json\n",
    "\n",
    "from retry_requests import retry\n",
    "from requests import Session\n",
    "\n",
    "client = boto3.client(service_name='bedrock-runtime', region_name=\"us-west-2\",aws_access_key_id=secrets['aws_access_key_id'], aws_secret_access_key=secrets['aws_secret_access_key']) \n",
    "#model_id = \"meta.llama3-1-70b-instruct-v1:0\"\n",
    "model_id = \"meta.llama3-1-405b-instruct-v1:0\"\n",
    "#model_id = \"anthropic.claude-3-opus-20240229-v1:0\"\n"
   ]
  },
  {
   "cell_type": "markdown",
   "metadata": {},
   "source": [
    "### A toy tool calling example to demonstrate the converse API"
   ]
  },
  {
   "cell_type": "code",
   "execution_count": 4,
   "metadata": {},
   "outputs": [],
   "source": [
    "radio_tools = {\n",
    "    \"tools\": [\n",
    "        {\n",
    "            \"toolSpec\": {\n",
    "                \"name\": \"top_song\",\n",
    "                \"description\": \"Get the most popular song played on a radio station.\",\n",
    "                \"inputSchema\": {\n",
    "                    \"json\": {\n",
    "                        \"type\": \"object\",\n",
    "                        \"properties\": {\n",
    "                            \"sign\": {\n",
    "                                \"type\": \"string\",\n",
    "                                \"description\": \"The call sign for the radio station for which you want the most popular song. Example calls signs are WZPZ and WKRP.\"\n",
    "                            }\n",
    "                        },\n",
    "                        \"required\": [\n",
    "                            \"sign\"\n",
    "                        ]\n",
    "                    }\n",
    "                }\n",
    "            }\n",
    "        }\n",
    "    ]\n",
    "}\n",
    "\n",
    "conversation = [\n",
    "    {\n",
    "        \"role\": \"user\",\n",
    "        \"content\": [\n",
    "            {\n",
    "                \"text\": \"What is the most popular song on WZPZ?\"\n",
    "            }\n",
    "        ]\n",
    "    }\n",
    "]\n",
    "\n",
    "\n",
    "# Send the message to the model, using a basic inference configuration.\n",
    "response = client.converse(\n",
    "    toolConfig = radio_tools,\n",
    "    modelId=model_id,\n",
    "    messages=conversation,\n",
    "    inferenceConfig={\"maxTokens\": 512, \"temperature\": 0.5, \"topP\": 0.9},\n",
    ")\n"
   ]
  },
  {
   "cell_type": "code",
   "execution_count": 5,
   "metadata": {},
   "outputs": [
    {
     "data": {
      "text/plain": [
       "{'ResponseMetadata': {'RequestId': '42c11e67-8412-4615-8817-9654e45d9f8d',\n",
       "  'HTTPStatusCode': 200,\n",
       "  'HTTPHeaders': {'date': 'Thu, 15 Aug 2024 17:15:33 GMT',\n",
       "   'content-type': 'application/json',\n",
       "   'content-length': '273',\n",
       "   'connection': 'keep-alive',\n",
       "   'x-amzn-requestid': '42c11e67-8412-4615-8817-9654e45d9f8d'},\n",
       "  'RetryAttempts': 0},\n",
       " 'output': {'message': {'role': 'assistant',\n",
       "   'content': [{'toolUse': {'toolUseId': 'tooluse_Y1YbwUU5TlW68Gfsf-7Z1g',\n",
       "      'name': 'top_song',\n",
       "      'input': {'sign': 'WZPZ'}}}]}},\n",
       " 'stopReason': 'tool_use',\n",
       " 'usage': {'inputTokens': 103, 'outputTokens': 28, 'totalTokens': 131},\n",
       " 'metrics': {'latencyMs': 2710}}"
      ]
     },
     "execution_count": 5,
     "metadata": {},
     "output_type": "execute_result"
    }
   ],
   "source": [
    "response"
   ]
  },
  {
   "cell_type": "markdown",
   "metadata": {},
   "source": [
    "### Function Inspection\n",
    "Now we need to define a function that can interrogate Python functions and provide a toolspec according to the converse API definition"
   ]
  },
  {
   "cell_type": "code",
   "execution_count": 6,
   "metadata": {},
   "outputs": [],
   "source": [
    "# explicit function\n",
    "def fun(a: int, b: int):\n",
    "    return a**b"
   ]
  },
  {
   "cell_type": "code",
   "execution_count": 7,
   "metadata": {},
   "outputs": [],
   "source": [
    "import inspect\n",
    "\n",
    "def function_inspection(func) -> dict:\n",
    "    field_types = {\n",
    "        str: \"string\",\n",
    "        int: \"integer\",\n",
    "        float: \"float\",\n",
    "        bool: \"boolean\",\n",
    "        list: \"array\",\n",
    "        dict: \"object\",\n",
    "        type(None): \"null\",\n",
    "    }\n",
    "\n",
    "    try:\n",
    "        signature = inspect.signature(func)\n",
    "    except ValueError as e:\n",
    "        raise ValueError(\n",
    "            f\"Error retrieving function signature for {func.__name__}: {str(e)}\"\n",
    "        )\n",
    "\n",
    "    parameters = {}\n",
    "    for param in signature.parameters.values():\n",
    "        try:\n",
    "            param_type = field_types.get(param.annotation, \"string\")\n",
    "        except KeyError as e:\n",
    "            raise KeyError(\n",
    "                f\"Unknown type {param.annotation} for {param.name}: {str(e)}\"\n",
    "            )\n",
    "        parameters[param.name] = {\"type\": param_type}\n",
    "\n",
    "    required = [\n",
    "        param.name\n",
    "        for param in signature.parameters.values()\n",
    "        if param.default == inspect._empty\n",
    "    ]\n",
    "    if \"kwargs\" in required: required.remove(\"kwargs\")\n",
    "\n",
    "    return {\n",
    "        \"toolSpec\": {\n",
    "            \"name\": func.__name__,\n",
    "            \"description\": func.__doc__ or \"\",\n",
    "            \"inputSchema\": {\n",
    "                \"json\": {\n",
    "                \"type\": \"object\",\n",
    "                \"properties\": parameters,\n",
    "                \"required\": required,\n",
    "            },\n",
    "            },\n",
    "        },\n",
    "    }\n"
   ]
  },
  {
   "cell_type": "code",
   "execution_count": 8,
   "metadata": {},
   "outputs": [
    {
     "data": {
      "text/plain": [
       "{'toolSpec': {'name': 'fun',\n",
       "  'description': '',\n",
       "  'inputSchema': {'json': {'type': 'object',\n",
       "    'properties': {'a': {'type': 'integer'}, 'b': {'type': 'integer'}},\n",
       "    'required': ['a', 'b']}}}}"
      ]
     },
     "execution_count": 8,
     "metadata": {},
     "output_type": "execute_result"
    }
   ],
   "source": [
    "function_inspection(fun)"
   ]
  },
  {
   "cell_type": "markdown",
   "metadata": {},
   "source": [
    "### Getting the current weather by lat/long\n",
    "Using open-meteo we can check the current weather for a given location"
   ]
  },
  {
   "cell_type": "code",
   "execution_count": 9,
   "metadata": {},
   "outputs": [
    {
     "name": "stdout",
     "output_type": "stream",
     "text": [
      "Coordinates 52.52000045776367°N 13.419998168945312°E\n",
      "Elevation 38.0 m asl\n",
      "Timezone None None\n",
      "Timezone difference to GMT+0 0 s\n",
      "Current time 1723742100\n",
      "Current temperature_2m 26.600000381469727\n"
     ]
    }
   ],
   "source": [
    "import openmeteo_requests\n",
    "\n",
    "from retry_requests import retry\n",
    "from requests import Session\n",
    "\n",
    "# Setup the Open-Meteo API client with cache and retry on error\n",
    "retry_session = retry(Session(), retries = 5, backoff_factor = 0.2)\n",
    "openmeteo = openmeteo_requests.Client(session = retry_session)\n",
    "\n",
    "url = \"https://api.open-meteo.com/v1/forecast\"\n",
    "params = {\n",
    "\t\"latitude\": 52.52,\n",
    "\t\"longitude\": 13.41,\n",
    "\t\"current\": \"temperature_2m\"\n",
    "}\n",
    "responses = openmeteo.weather_api(url, params=params)\n",
    "\n",
    "# Process first location. Add a for-loop for multiple locations or weather models\n",
    "response = responses[0]\n",
    "print(f\"Coordinates {response.Latitude()}°N {response.Longitude()}°E\")\n",
    "print(f\"Elevation {response.Elevation()} m asl\")\n",
    "print(f\"Timezone {response.Timezone()} {response.TimezoneAbbreviation()}\")\n",
    "print(f\"Timezone difference to GMT+0 {response.UtcOffsetSeconds()} s\")\n",
    "\n",
    "# Current values. The order of variables needs to be the same as requested.\n",
    "current = response.Current()\n",
    "current_temperature_2m = current.Variables(0).Value()\n",
    "\n",
    "print(f\"Current time {current.Time()}\")\n",
    "print(f\"Current temperature_2m {current_temperature_2m}\")"
   ]
  },
  {
   "cell_type": "code",
   "execution_count": 10,
   "metadata": {},
   "outputs": [],
   "source": [
    "def current_weather(latitude:float, longitude:float, place:str=\"\") -> str:\n",
    "    \"\"\"Gets the current temperature for a location given a specific location's latitude and longitude, pass the full floating point number values in\"\"\"\n",
    "    url = \"https://api.open-meteo.com/v1/forecast\"\n",
    "    params = {\n",
    "        \"latitude\": latitude,\n",
    "        \"longitude\": longitude,\n",
    "        \"current\": \"temperature_2m\"\n",
    "    }\n",
    "    responses = openmeteo.weather_api(url, params=params)\n",
    "\n",
    "    response = responses[0]\n",
    "    current = response.Current()\n",
    "    current_temperature_2m = current.Variables(0).Value()\n",
    "\n",
    "    return \"The current temperature at %s is %f degrees.\" %(place, current_temperature_2m)"
   ]
  },
  {
   "cell_type": "code",
   "execution_count": 11,
   "metadata": {},
   "outputs": [
    {
     "data": {
      "text/plain": [
       "'The current temperature at  is 17.000000 degrees.'"
      ]
     },
     "execution_count": 11,
     "metadata": {},
     "output_type": "execute_result"
    }
   ],
   "source": [
    "current_weather(47.4864, 122.1943)"
   ]
  },
  {
   "cell_type": "code",
   "execution_count": 12,
   "metadata": {},
   "outputs": [
    {
     "data": {
      "text/plain": [
       "{'toolSpec': {'name': 'current_weather',\n",
       "  'description': \"Gets the current temperature for a location given a specific location's latitude and longitude, pass the full floating point number values in\",\n",
       "  'inputSchema': {'json': {'type': 'object',\n",
       "    'properties': {'latitude': {'type': 'float'},\n",
       "     'longitude': {'type': 'float'},\n",
       "     'place': {'type': 'string'}},\n",
       "    'required': ['latitude', 'longitude']}}}}"
      ]
     },
     "execution_count": 12,
     "metadata": {},
     "output_type": "execute_result"
    }
   ],
   "source": [
    "function_inspection(current_weather)"
   ]
  },
  {
   "cell_type": "markdown",
   "metadata": {},
   "source": [
    "### Building a basic agent\n",
    "We can build a single tooled agent that can reply with the current temperature for a given location, or more specifically, identify the function and inputs that need to be called"
   ]
  },
  {
   "cell_type": "code",
   "execution_count": 13,
   "metadata": {},
   "outputs": [],
   "source": [
    "policy = \"\"\"You are a weather assistant agent - users ask for a variety of information including the temperature, humidity, and preciptation that is weather related.  \n",
    "You have access to current, past, and future weather using Functions, \n",
    "do not answer from memory for weather related information, instead collect the required data and call the Function appropriately\"\"\""
   ]
  },
  {
   "cell_type": "code",
   "execution_count": 14,
   "metadata": {},
   "outputs": [],
   "source": [
    "from pydantic import BaseModel, Field\n",
    "from typing import List, Callable, Dict\n",
    "class Agent(BaseModel):\n",
    "    name: str = 'Agent'\n",
    "    llm_model_id: str = \"meta.llama3-1-405b-instruct-v1:0\"\n",
    "    policy: str = \"You are an AI assistant.\"\n",
    "    tools: Dict = {}\n",
    "    tools_json: Dict = {}\n",
    "\n",
    "    def build_tool_json(self):\n",
    "        tools_json = {\"tools\": []}\n",
    "        for k,v in self.tools.items():\n",
    "            tools_json['tools'].append(function_inspection(v))\n",
    "        self.tools_json = tools_json\n"
   ]
  },
  {
   "cell_type": "code",
   "execution_count": 15,
   "metadata": {},
   "outputs": [],
   "source": [
    "weather_agent = Agent(name=\"Weather Agent\", policy=policy,tools={\"current_weather\": current_weather})"
   ]
  },
  {
   "cell_type": "code",
   "execution_count": 16,
   "metadata": {},
   "outputs": [],
   "source": [
    "weather_agent.build_tool_json()"
   ]
  },
  {
   "cell_type": "code",
   "execution_count": 17,
   "metadata": {},
   "outputs": [
    {
     "data": {
      "text/plain": [
       "{'tools': [{'toolSpec': {'name': 'current_weather',\n",
       "    'description': \"Gets the current temperature for a location given a specific location's latitude and longitude, pass the full floating point number values in\",\n",
       "    'inputSchema': {'json': {'type': 'object',\n",
       "      'properties': {'latitude': {'type': 'float'},\n",
       "       'longitude': {'type': 'float'},\n",
       "       'place': {'type': 'string'}},\n",
       "      'required': ['latitude', 'longitude']}}}}]}"
      ]
     },
     "execution_count": 17,
     "metadata": {},
     "output_type": "execute_result"
    }
   ],
   "source": [
    "weather_agent.tools_json"
   ]
  },
  {
   "cell_type": "code",
   "execution_count": 18,
   "metadata": {},
   "outputs": [],
   "source": [
    "# Start a conversation with the user message.\n",
    "user_message = \"What's the temperature for lat 47.4864 and long 122.1943?\"\n",
    "conversation = [\n",
    "    {\n",
    "        \"role\": \"user\",\n",
    "        \"content\": [{\"text\": user_message}],\n",
    "    }\n",
    "]\n",
    "\n",
    "\n",
    "# Send the message to the model, using a basic inference configuration.\n",
    "response = client.converse(\n",
    "    system=[{\"text\": weather_agent.policy}],\n",
    "    modelId=weather_agent.llm_model_id,\n",
    "    messages=conversation,\n",
    "    toolConfig = weather_agent.tools_json,\n",
    "    inferenceConfig={\"maxTokens\": 512, \"temperature\": 0.5, \"topP\": 0.9},)\n"
   ]
  },
  {
   "cell_type": "code",
   "execution_count": 19,
   "metadata": {},
   "outputs": [
    {
     "data": {
      "text/plain": [
       "{'ResponseMetadata': {'RequestId': '351e6d97-91b5-4d3b-835b-c9d169392583',\n",
       "  'HTTPStatusCode': 200,\n",
       "  'HTTPHeaders': {'date': 'Thu, 15 Aug 2024 17:15:39 GMT',\n",
       "   'content-type': 'application/json',\n",
       "   'content-length': '300',\n",
       "   'connection': 'keep-alive',\n",
       "   'x-amzn-requestid': '351e6d97-91b5-4d3b-835b-c9d169392583'},\n",
       "  'RetryAttempts': 0},\n",
       " 'output': {'message': {'role': 'assistant',\n",
       "   'content': [{'toolUse': {'toolUseId': 'tooluse_VUSXvM37RKC1UFJHsh3eWw',\n",
       "      'name': 'current_weather',\n",
       "      'input': {'latitude': '47', 'longitude': '122'}}}]}},\n",
       " 'stopReason': 'tool_use',\n",
       " 'usage': {'inputTokens': 172, 'outputTokens': 31, 'totalTokens': 203},\n",
       " 'metrics': {'latencyMs': 2948}}"
      ]
     },
     "execution_count": 19,
     "metadata": {},
     "output_type": "execute_result"
    }
   ],
   "source": [
    "response"
   ]
  },
  {
   "cell_type": "code",
   "execution_count": 20,
   "metadata": {},
   "outputs": [
    {
     "data": {
      "text/plain": [
       "'The current temperature at  is 18.950001 degrees.'"
      ]
     },
     "execution_count": 20,
     "metadata": {},
     "output_type": "execute_result"
    }
   ],
   "source": [
    "#calling a tool and providing the required inputs as a JSON object, similar to that returned above, demonstrating how we will dynamically call the tools with teh toolUse response\n",
    "weather_agent.tools[\"current_weather\"](**{'latitude': '47', 'longitude': '122'})"
   ]
  },
  {
   "cell_type": "markdown",
   "metadata": {},
   "source": [
    "### Location Lookup\n",
    "Nobody wants to really search for weather by lat long, so we need another tool to find the coordinates for a user passed location"
   ]
  },
  {
   "cell_type": "code",
   "execution_count": 21,
   "metadata": {},
   "outputs": [
    {
     "name": "stdout",
     "output_type": "stream",
     "text": [
      "latitude is :- 47.4468672 \n",
      "longtitude is:- -122.1525349\n"
     ]
    }
   ],
   "source": [
    "from geopy.geocoders import Nominatim\n",
    "geolocator = Nominatim(user_agent=\"my_user_agent\")\n",
    "city =\"Fairwood, WA\"\n",
    "loc = geolocator.geocode(city)\n",
    "print(\"latitude is :-\" ,loc.latitude,\"\\nlongtitude is:-\" ,loc.longitude)"
   ]
  },
  {
   "cell_type": "code",
   "execution_count": 22,
   "metadata": {},
   "outputs": [],
   "source": [
    "#turning that into a function we can use\n",
    "from geopy.geocoders import Nominatim\n",
    "def geolocation(location: str) -> str:\n",
    "    \"\"\"Input user location with as much specificity as is known, if a city and a state are provided, submit in the form of City, State\"\"\"\n",
    "    geolocator = Nominatim(user_agent=\"location_agent\")\n",
    "    loc = geolocator.geocode(location)\n",
    "    return \"The latitude and longitude for %s is %f, %f\" % (location, loc.latitude, loc.longitude)"
   ]
  },
  {
   "cell_type": "markdown",
   "metadata": {},
   "source": [
    "### Building a multi-tool agent\n",
    "Now we have 2 tools and can write a prompt and build our agent to be empowered with both of these"
   ]
  },
  {
   "cell_type": "code",
   "execution_count": 23,
   "metadata": {},
   "outputs": [],
   "source": [
    "policy = \"\"\"You are a weather assistant agent - users ask for a variety of information including the temperature, humidity, and preciptation that is weather related.  \n",
    "Use tools where necessary to gather more information if it is not provided by the user or in this prompt.\"\"\"\n",
    "\n",
    "weather_agent = Agent(name=\"Weather Agent\", policy=policy,tools={\"current_weather\": current_weather, \"geolocation\":geolocation})\n",
    "weather_agent.build_tool_json()"
   ]
  },
  {
   "cell_type": "markdown",
   "metadata": {},
   "source": [
    "### Inferencing\n",
    "We want to invoke the converse API and any time it returns a toolUse response, we want to call that tool with the output, add that to the conversation, and call the converse API again"
   ]
  },
  {
   "cell_type": "code",
   "execution_count": 24,
   "metadata": {},
   "outputs": [],
   "source": [
    "class Inference(BaseModel):\n",
    "    conversation: List\n",
    "    agent: Agent\n",
    "    system_prompt:str = \"\"\n",
    "\n",
    "    def set_prompt(self):\n",
    "        self.system_prompt = self.agent.policy\n",
    "\n",
    "    def run_inference(self):\n",
    "        response = client.converse(\n",
    "            system=[{\"text\": self.system_prompt}],\n",
    "            modelId=self.agent.llm_model_id,\n",
    "            messages=self.conversation,\n",
    "            toolConfig = self.agent.tools_json,\n",
    "            inferenceConfig={\"maxTokens\": 512, \"temperature\": 0.5, \"topP\": 0.9},)\n",
    "\n",
    "        print(json.dumps(response, indent=2))\n",
    "        \n",
    "        if \"toolUse\" in response['output']['message']['content'][0].keys():\n",
    "            tool_name = response['output']['message']['content'][0]['toolUse']['name']\n",
    "            tool_inputs = response['output']['message']['content'][0]['toolUse']['input']\n",
    "\n",
    "            tool_result = weather_agent.tools[tool_name](**tool_inputs)\n",
    "\n",
    "            print(\"called tool with result \" + str(tool_result) + \" Is this enough information to answer the question?\")\n",
    "\n",
    "            #self.system_prompt = self.system_prompt+\" \"+tool_result\n",
    "            self.conversation.append({\"role\": \"assistant\",'content': [{'text':\"Called tool %s with result %s\" %(tool_name, tool_result)}]})\n",
    "            self.conversation.append({\"role\": \"user\",'content': [{'text':\"Is this enough information to answer the question?\"}]})\n",
    "\n",
    "            return(\"tool_call\")\n",
    "        \n",
    "        else:\n",
    "            response_text = response[\"output\"][\"message\"][\"content\"][0][\"text\"]\n",
    "            print(response_text)\n",
    "\n",
    "            self.conversation.append({\"role\": \"assistant\",'content': [{'text':response_text}]})\n",
    "\n",
    "            print(self.conversation)\n",
    "\n",
    "        return response_text\n",
    "\n",
    "    def run(self):\n",
    "        response = self.run_inference()\n",
    "        while response == \"tool_call\":\n",
    "            response = self.run_inference()\n",
    "        print(response)\n"
   ]
  },
  {
   "cell_type": "code",
   "execution_count": 25,
   "metadata": {},
   "outputs": [],
   "source": [
    "policy = \"\"\"You are a weather assistant agent - users ask for a variety of information including the temperature, humidity, and preciptation that is weather related.  \n",
    "Use tools where necessary to gather more information if it is not provided by the user or in this prompt.\"\"\"\n",
    "\n",
    "weather_agent = Agent(name=\"Weather Agent\", policy=policy,tools={\"current_weather\": current_weather, \"geolocation\":geolocation})\n",
    "weather_agent.build_tool_json()"
   ]
  },
  {
   "cell_type": "code",
   "execution_count": 26,
   "metadata": {},
   "outputs": [
    {
     "name": "stdout",
     "output_type": "stream",
     "text": [
      "{\n",
      "  \"ResponseMetadata\": {\n",
      "    \"RequestId\": \"c4f40af2-2c7e-4ec4-bc14-bfc68ac53766\",\n",
      "    \"HTTPStatusCode\": 200,\n",
      "    \"HTTPHeaders\": {\n",
      "      \"date\": \"Thu, 15 Aug 2024 17:15:42 GMT\",\n",
      "      \"content-type\": \"application/json\",\n",
      "      \"content-length\": \"291\",\n",
      "      \"connection\": \"keep-alive\",\n",
      "      \"x-amzn-requestid\": \"c4f40af2-2c7e-4ec4-bc14-bfc68ac53766\"\n",
      "    },\n",
      "    \"RetryAttempts\": 0\n",
      "  },\n",
      "  \"output\": {\n",
      "    \"message\": {\n",
      "      \"role\": \"assistant\",\n",
      "      \"content\": [\n",
      "        {\n",
      "          \"toolUse\": {\n",
      "            \"toolUseId\": \"tooluse_3yFxa9cJQhGxlZuq6diDAQ\",\n",
      "            \"name\": \"geolocation\",\n",
      "            \"input\": {\n",
      "              \"location\": \"Atlanta Georgia\"\n",
      "            }\n",
      "          }\n",
      "        }\n",
      "      ]\n",
      "    }\n",
      "  },\n",
      "  \"stopReason\": \"tool_use\",\n",
      "  \"usage\": {\n",
      "    \"inputTokens\": 212,\n",
      "    \"outputTokens\": 26,\n",
      "    \"totalTokens\": 238\n",
      "  },\n",
      "  \"metrics\": {\n",
      "    \"latencyMs\": 2535\n",
      "  }\n",
      "}\n",
      "called tool with result The latitude and longitude for Atlanta Georgia is 33.748992, -84.390264 Is this enough information to answer the question?\n",
      "{\n",
      "  \"ResponseMetadata\": {\n",
      "    \"RequestId\": \"20d7ced0-dca9-4431-8bd8-dc1a84a65a11\",\n",
      "    \"HTTPStatusCode\": 200,\n",
      "    \"HTTPHeaders\": {\n",
      "      \"date\": \"Thu, 15 Aug 2024 17:15:47 GMT\",\n",
      "      \"content-type\": \"application/json\",\n",
      "      \"content-length\": \"326\",\n",
      "      \"connection\": \"keep-alive\",\n",
      "      \"x-amzn-requestid\": \"20d7ced0-dca9-4431-8bd8-dc1a84a65a11\"\n",
      "    },\n",
      "    \"RetryAttempts\": 0\n",
      "  },\n",
      "  \"output\": {\n",
      "    \"message\": {\n",
      "      \"role\": \"assistant\",\n",
      "      \"content\": [\n",
      "        {\n",
      "          \"toolUse\": {\n",
      "            \"toolUseId\": \"tooluse_aFr01n79RLme16r9msucmA\",\n",
      "            \"name\": \"current_weather\",\n",
      "            \"input\": {\n",
      "              \"latitude\": \"33\",\n",
      "              \"place\": \"Atlanta Georgia\",\n",
      "              \"longitude\": \"-84\"\n",
      "            }\n",
      "          }\n",
      "        }\n",
      "      ]\n",
      "    }\n",
      "  },\n",
      "  \"stopReason\": \"tool_use\",\n",
      "  \"usage\": {\n",
      "    \"inputTokens\": 256,\n",
      "    \"outputTokens\": 38,\n",
      "    \"totalTokens\": 294\n",
      "  },\n",
      "  \"metrics\": {\n",
      "    \"latencyMs\": 3343\n",
      "  }\n",
      "}\n",
      "called tool with result The current temperature at Atlanta Georgia is 31.386999 degrees. Is this enough information to answer the question?\n",
      "{\n",
      "  \"ResponseMetadata\": {\n",
      "    \"RequestId\": \"3ebde9c5-6ad5-47d8-9478-eaf013a65dff\",\n",
      "    \"HTTPStatusCode\": 200,\n",
      "    \"HTTPHeaders\": {\n",
      "      \"date\": \"Thu, 15 Aug 2024 17:15:50 GMT\",\n",
      "      \"content-type\": \"application/json\",\n",
      "      \"content-length\": \"317\",\n",
      "      \"connection\": \"keep-alive\",\n",
      "      \"x-amzn-requestid\": \"3ebde9c5-6ad5-47d8-9478-eaf013a65dff\"\n",
      "    },\n",
      "    \"RetryAttempts\": 0\n",
      "  },\n",
      "  \"output\": {\n",
      "    \"message\": {\n",
      "      \"role\": \"assistant\",\n",
      "      \"content\": [\n",
      "        {\n",
      "          \"text\": \"\\n\\nYes, the information provided is enough to answer the question. The current temperature in Atlanta, Georgia is 31.386999 degrees.\"\n",
      "        }\n",
      "      ]\n",
      "    }\n",
      "  },\n",
      "  \"stopReason\": \"end_turn\",\n",
      "  \"usage\": {\n",
      "    \"inputTokens\": 295,\n",
      "    \"outputTokens\": 29,\n",
      "    \"totalTokens\": 324\n",
      "  },\n",
      "  \"metrics\": {\n",
      "    \"latencyMs\": 2741\n",
      "  }\n",
      "}\n",
      "\n",
      "\n",
      "Yes, the information provided is enough to answer the question. The current temperature in Atlanta, Georgia is 31.386999 degrees.\n",
      "[{'role': 'user', 'content': [{'text': \"What's the current temperature in Atlanta Georgia?\"}]}, {'role': 'assistant', 'content': [{'text': 'Called tool geolocation with result The latitude and longitude for Atlanta Georgia is 33.748992, -84.390264'}]}, {'role': 'user', 'content': [{'text': 'Is this enough information to answer the question?'}]}, {'role': 'assistant', 'content': [{'text': 'Called tool current_weather with result The current temperature at Atlanta Georgia is 31.386999 degrees.'}]}, {'role': 'user', 'content': [{'text': 'Is this enough information to answer the question?'}]}, {'role': 'assistant', 'content': [{'text': '\\n\\nYes, the information provided is enough to answer the question. The current temperature in Atlanta, Georgia is 31.386999 degrees.'}]}]\n",
      "\n",
      "\n",
      "Yes, the information provided is enough to answer the question. The current temperature in Atlanta, Georgia is 31.386999 degrees.\n"
     ]
    }
   ],
   "source": [
    "conversation = [\n",
    "    {\n",
    "        \"role\": \"user\",\n",
    "        \"content\": [{\"text\": \"What's the current temperature in Atlanta Georgia?\"}],\n",
    "    }\n",
    "    ]\n",
    "\n",
    "weather_conversation = Inference(conversation=conversation, agent=weather_agent)\n",
    "weather_conversation.set_prompt()\n",
    "weather_conversation.run()"
   ]
  },
  {
   "cell_type": "code",
   "execution_count": null,
   "metadata": {},
   "outputs": [],
   "source": []
  }
 ],
 "metadata": {
  "kernelspec": {
   "display_name": "openai",
   "language": "python",
   "name": "python3"
  },
  "language_info": {
   "codemirror_mode": {
    "name": "ipython",
    "version": 3
   },
   "file_extension": ".py",
   "mimetype": "text/x-python",
   "name": "python",
   "nbconvert_exporter": "python",
   "pygments_lexer": "ipython3",
   "version": "3.11.3"
  }
 },
 "nbformat": 4,
 "nbformat_minor": 2
}
